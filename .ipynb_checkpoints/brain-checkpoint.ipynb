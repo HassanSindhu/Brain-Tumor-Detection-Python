{
 "cells": [
  {
   "cell_type": "code",
   "execution_count": 5,
   "metadata": {
    "colab": {},
    "colab_type": "code",
    "executionInfo": {
     "elapsed": 1199,
     "status": "ok",
     "timestamp": 1598167115861,
     "user": {
      "displayName": "Hassan Iqbal",
      "photoUrl": "",
      "userId": "06635397133582197587"
     },
     "user_tz": 420
    },
    "id": "0qxDrdtzIG0q"
   },
   "outputs": [],
   "source": [
    "import numpy as np # linear algebra\n",
    "import pandas as pd # data processing, CSV file I/O (e.g. pd.read_csv)\n",
    "import math\n",
    "import cv2\n",
    "import matplotlib.pyplot as plt\n",
    "import os\n",
    "import seaborn as sns\n",
    "import umap\n",
    "from PIL import Image\n",
    "from scipy import misc\n",
    "from os import listdir\n",
    "from os.path import isfile, join\n",
    "import numpy as np\n",
    "from scipy import misc\n",
    "from random import shuffle\n",
    "from collections import Counter\n",
    "import matplotlib.pyplot as plt\n",
    "from sklearn.decomposition import PCA\n",
    "from sklearn.manifold import TSNE\n",
    "import tensorflow as tf\n",
    "from keras.models import Sequential\n",
    "from keras.layers import Conv2D, MaxPooling2D\n",
    "from keras.layers import Activation, Dropout, Flatten, Dense\n",
    "from keras.utils.np_utils import to_categorical"
   ]
  },
  {
   "cell_type": "code",
   "execution_count": 6,
   "metadata": {
    "colab": {
     "base_uri": "https://localhost:8080/",
     "height": 34
    },
    "colab_type": "code",
    "executionInfo": {
     "elapsed": 1248,
     "status": "ok",
     "timestamp": 1598167119666,
     "user": {
      "displayName": "Hassan Iqbal",
      "photoUrl": "",
      "userId": "06635397133582197587"
     },
     "user_tz": 420
    },
    "id": "HFg-ZbGHIONR",
    "outputId": "c609b879-7b77-4f9c-d966-daf6eec02e5b"
   },
   "outputs": [
    {
     "data": {
      "text/plain": [
       "['yes', 'no']"
      ]
     },
     "execution_count": 6,
     "metadata": {
      "tags": []
     },
     "output_type": "execute_result"
    }
   ],
   "source": [
    "os.listdir('brain_tumor_dataset')\n"
   ]
  },
  {
   "cell_type": "code",
   "execution_count": 7,
   "metadata": {
    "colab": {},
    "colab_type": "code",
    "executionInfo": {
     "elapsed": 1099,
     "status": "ok",
     "timestamp": 1598167122077,
     "user": {
      "displayName": "Hassan Iqbal",
      "photoUrl": "",
      "userId": "06635397133582197587"
     },
     "user_tz": 420
    },
    "id": "DN1RClrXIWKe"
   },
   "outputs": [],
   "source": [
    "yes=os.listdir('brain_tumor_dataset/yes')\n",
    "no=os.listdir('brain_tumor_dataset/no')"
   ]
  },
  {
   "cell_type": "code",
   "execution_count": 8,
   "metadata": {
    "colab": {
     "base_uri": "https://localhost:8080/",
     "height": 34
    },
    "colab_type": "code",
    "executionInfo": {
     "elapsed": 859,
     "status": "ok",
     "timestamp": 1598167123674,
     "user": {
      "displayName": "Hassan Iqbal",
      "photoUrl": "",
      "userId": "06635397133582197587"
     },
     "user_tz": 420
    },
    "id": "UowZa8CfKcFY",
    "outputId": "e8649b3b-6106-4fef-8132-a15b2591a0ac"
   },
   "outputs": [
    {
     "data": {
      "text/plain": [
       "True"
      ]
     },
     "execution_count": 8,
     "metadata": {
      "tags": []
     },
     "output_type": "execute_result"
    }
   ],
   "source": [
    "data=np.concatenate([yes,no])\n",
    "len(data)==len(yes)+len(no)"
   ]
  },
  {
   "cell_type": "code",
   "execution_count": 9,
   "metadata": {
    "colab": {
     "base_uri": "https://localhost:8080/",
     "height": 34
    },
    "colab_type": "code",
    "executionInfo": {
     "elapsed": 1187,
     "status": "ok",
     "timestamp": 1598167125413,
     "user": {
      "displayName": "Hassan Iqbal",
      "photoUrl": "",
      "userId": "06635397133582197587"
     },
     "user_tz": 420
    },
    "id": "mUptXPRBKexA",
    "outputId": "99458368-ef34-4cdf-af5a-9280526f5119"
   },
   "outputs": [
    {
     "data": {
      "text/plain": [
       "True"
      ]
     },
     "execution_count": 9,
     "metadata": {
      "tags": []
     },
     "output_type": "execute_result"
    }
   ],
   "source": [
    "target_x=np.full(len(yes),1)\n",
    "target_y=np.full(len(no),0)\n",
    "data_target=np.concatenate([target_x,target_y])\n",
    "len(data_target)==len(target_x)+len(target_y)"
   ]
  },
  {
   "cell_type": "code",
   "execution_count": 10,
   "metadata": {
    "colab": {
     "base_uri": "https://localhost:8080/",
     "height": 34
    },
    "colab_type": "code",
    "executionInfo": {
     "elapsed": 692,
     "status": "ok",
     "timestamp": 1598167126773,
     "user": {
      "displayName": "Hassan Iqbal",
      "photoUrl": "",
      "userId": "06635397133582197587"
     },
     "user_tz": 420
    },
    "id": "Iy09YxonKhbO",
    "outputId": "5983e310-7b9e-4446-bd58-2ed93946ced9"
   },
   "outputs": [
    {
     "data": {
      "text/plain": [
       "True"
      ]
     },
     "execution_count": 10,
     "metadata": {
      "tags": []
     },
     "output_type": "execute_result"
    }
   ],
   "source": [
    "len(data_target)==len(data)"
   ]
  },
  {
   "cell_type": "code",
   "execution_count": 11,
   "metadata": {
    "colab": {
     "base_uri": "https://localhost:8080/",
     "height": 833
    },
    "colab_type": "code",
    "executionInfo": {
     "elapsed": 1090,
     "status": "ok",
     "timestamp": 1598167131200,
     "user": {
      "displayName": "Hassan Iqbal",
      "photoUrl": "",
      "userId": "06635397133582197587"
     },
     "user_tz": 420
    },
    "id": "lGKF7R7IKjug",
    "outputId": "710d80e2-d9ae-44b8-ac67-453b9c96035f"
   },
   "outputs": [
    {
     "data": {
      "text/plain": [
       "array(['Y47.JPG', 'Y46.jpg', 'Y13.jpg', 'Y38.jpg', 'Y111.JPG', 'Y247.JPG',\n",
       "       'Y252.jpg', 'Y66.JPG', 'Y65.JPG', 'Y36.JPG', 'Y248.JPG',\n",
       "       'Y168.jpg', 'Y82.jpg', 'Y55.jpg', 'Y148.JPG', 'Y44.JPG', 'Y90.jpg',\n",
       "       'Y25.jpg', 'Y102.jpg', 'Y192.JPG', 'Y184.JPG', 'Y243.JPG',\n",
       "       'Y195.JPG', 'Y167.JPG', 'Y20.jpg', 'Y22.jpg', 'Y41.jpg', 'Y51.jpg',\n",
       "       'Y186.jpg', 'Y29.jpg', 'Y246.JPG', 'Y164.JPG', 'Y100.JPG',\n",
       "       'Y24.jpg', 'Y76.jpg', 'Y181.jpg', 'Y188.jpg', 'Y21.jpg', 'Y54.jpg',\n",
       "       'Y95.jpg', 'Y77.jpg', 'Y96.jpg', 'Y18.JPG', 'Y194.jpg', 'Y161.JPG',\n",
       "       'Y104.jpg', 'Y157.JPG', 'Y37.jpg', 'Y81.jpg', 'Y15.jpg',\n",
       "       'Y114.JPG', 'Y34.jpg', 'Y67.JPG', 'Y115.JPG', 'Y245.jpg',\n",
       "       'Y26.jpg', 'Y50.JPG', 'Y98.JPG', 'Y56.jpg', 'Y180.jpg', 'Y163.JPG',\n",
       "       'Y33.jpg', 'Y117.JPG', 'Y11.jpg', 'Y107.jpg', 'Y9.jpg', 'Y154.jpg',\n",
       "       'Y92.png', 'Y146.JPG', 'Y2.jpg', 'Y61.jpg', 'Y42.jpg', 'Y162.jpg',\n",
       "       'Y254.jpg', 'Y78.jpg', 'Y147.JPG', 'Y99.JPG', 'Y8.jpg', 'Y28.jpg',\n",
       "       'Y185.jpg', 'Y14.jpg', 'Y59.JPG', 'Y101.jpg', 'Y74.jpg', 'Y85.JPG',\n",
       "       'Y58.JPG', 'Y86.JPG', 'Y53.jpg', 'Y108.jpg', 'Y156.JPG',\n",
       "       'Y158.JPG', 'Y31.jpg', 'Y259.JPG', 'Y73.jpg', 'Y166.JPG',\n",
       "       'Y62.jpg', 'Y251.JPG', 'Y97.JPG', 'Y112.JPG', 'Y71.JPG', 'Y35.jpg',\n",
       "       'Y79.jpg', 'Y169.jpg', 'Y16.JPG', 'Y39.jpg', 'Y187.jpg',\n",
       "       'Y257.jpg', 'Y7.jpg', 'Y89.JPG', 'Y19.JPG', 'Y75.JPG', 'Y170.JPG',\n",
       "       'Y244.JPG', 'Y92.jpg', 'Y120.JPG', 'Y10.jpg', 'Y183.jpg',\n",
       "       'Y182.JPG', 'Y105.jpg', 'Y165.JPG', 'Y60.jpg', 'Y27.jpg', 'Y3.jpg',\n",
       "       'Y116.JPG', 'Y70.jpg', 'Y32.jpg', 'Y91.jpg', 'Y40.JPG', 'Y256.JPG',\n",
       "       'Y258.JPG', 'Y4.jpg', 'Y45.JPG', 'Y23.JPG', 'Y155.JPG', 'Y17.jpg',\n",
       "       'Y242.JPG', 'Y255.JPG', 'Y52.jpg', 'Y30.jpg', 'Y249.JPG',\n",
       "       'Y49.JPG', 'Y113.JPG', 'Y69.jpg', 'Y106.jpg', 'Y12.jpg',\n",
       "       'Y109.JPG', 'Y153.jpg', 'Y103.jpg', 'Y1.jpg', 'Y193.JPG',\n",
       "       'Y159.JPG', 'Y6.jpg', 'Y160.JPG', 'Y253.JPG', 'Y250.jpg',\n",
       "       '10 no.jpg', '1 no.jpeg', '11 no.jpg', '2 no.jpeg', '3 no.jpg',\n",
       "       'N19.JPG', 'N16.jpg', 'N15.jpg', '47 no.jpg', '36 no.jpg',\n",
       "       '32 no.jpg', 'N1.JPG', 'N11.jpg', '28 no.jpg', '30 no.jpg',\n",
       "       '26 no.jpg', '8 no.jpg', '35 no.jpg', '34 no.jpg', '40 no.jpg',\n",
       "       '48 no.jpeg', '17 no.jpg', '22 no.jpg', '49 no.jpg', '18 no.jpg',\n",
       "       '37 no.jpg', '45 no.jpg', '21 no.jpg', '46 no.jpg', '9 no.jpg',\n",
       "       '43 no.jpg', 'N20.JPG', 'N22.JPG', '42 no.jpg', '24 no.jpg',\n",
       "       '25 no.jpg', '19 no.jpg', 'N17.jpg', '31 no.jpg', '5 no.jpg',\n",
       "       '15 no.jpg', '33 no.jpg', 'N21.jpg', '41 no.jpg', '39 no.jpg',\n",
       "       '12 no.jpg', '44no.jpg', '29 no.jpg', '13 no.jpg', '38 no.jpg',\n",
       "       '27 no.jpg', '14 no.jpg', '50 no.jpg', '7 no.jpg', '20 no.jpg',\n",
       "       '23 no.jpg', 'N2.JPG', '4 no.jpg', '6 no.jpg', 'No16.jpg',\n",
       "       'no 1.jpg', 'No12.jpg', 'No19.jpg', 'No11.jpg', 'no 96.jpg',\n",
       "       'no 98.jpg', 'No22.jpg', 'no.jpg', 'no 92.jpg', 'N26.JPG',\n",
       "       'no 7.jpeg', 'No15.jpg', 'no 94.jpg', 'no 6.jpg', 'no 89.jpg',\n",
       "       'No21.jpg', 'no 91.jpeg', 'no 923.jpg', 'no 2.jpg', 'no 97.jpg',\n",
       "       'no 5.jpeg', 'N5.jpg', 'no 9.png', 'No13.jpg', 'no 8.jpg',\n",
       "       'No17.jpg', 'no 3.jpg', 'no 95.jpg', 'N3.jpg', 'No14.jpg',\n",
       "       'No18.jpg', 'N6.jpg', 'no 4.jpg', 'no 10.jpg', 'no 90.jpg',\n",
       "       'no 100.jpg', 'no 99.jpg', 'No20.jpg'], dtype='<U10')"
      ]
     },
     "execution_count": 11,
     "metadata": {
      "tags": []
     },
     "output_type": "execute_result"
    }
   ],
   "source": [
    "#data_target\n",
    "data"
   ]
  },
  {
   "cell_type": "code",
   "execution_count": 12,
   "metadata": {
    "colab": {},
    "colab_type": "code",
    "executionInfo": {
     "elapsed": 598,
     "status": "ok",
     "timestamp": 1598167132723,
     "user": {
      "displayName": "Hassan Iqbal",
      "photoUrl": "",
      "userId": "06635397133582197587"
     },
     "user_tz": 420
    },
    "id": "Sk7kiGmEKlnR"
   },
   "outputs": [],
   "source": [
    "yes_values=os.listdir('brain_tumor_dataset/yes')\n",
    "no_values=os.listdir('brain_tumor_dataset/no')"
   ]
  },
  {
   "cell_type": "code",
   "execution_count": 13,
   "metadata": {
    "colab": {},
    "colab_type": "code",
    "executionInfo": {
     "elapsed": 71146,
     "status": "ok",
     "timestamp": 1598167204789,
     "user": {
      "displayName": "Hassan Iqbal",
      "photoUrl": "",
      "userId": "06635397133582197587"
     },
     "user_tz": 420
    },
    "id": "Mrtk6yXcK0dp"
   },
   "outputs": [],
   "source": [
    "X_data=[]\n",
    "for file in yes_values:\n",
    "    \n",
    "    img = cv2.imread('brain_tumor_dataset/yes/'+file)\n",
    "    face = cv2.resize(img, (32, 32) )\n",
    "    (b, g, r)=cv2.split(face) \n",
    "    img=cv2.merge([r,g,b])\n",
    "    X_data.append(img)\n"
   ]
  },
  {
   "cell_type": "code",
   "execution_count": 14,
   "metadata": {
    "colab": {},
    "colab_type": "code",
    "executionInfo": {
     "elapsed": 44598,
     "status": "ok",
     "timestamp": 1598167343266,
     "user": {
      "displayName": "Hassan Iqbal",
      "photoUrl": "",
      "userId": "06635397133582197587"
     },
     "user_tz": 420
    },
    "id": "QTLaeBBhLAxa"
   },
   "outputs": [],
   "source": [
    "for file in no_values:\n",
    "    img = cv2.imread('brain_tumor_dataset/no/'+file)\n",
    "    face = cv2.resize(img, (32, 32) )\n",
    "    (b, g, r)=cv2.split(face) \n",
    "    img=cv2.merge([r,g,b])\n",
    "    X_data.append(img)"
   ]
  },
  {
   "cell_type": "code",
   "execution_count": 15,
   "metadata": {
    "colab": {
     "base_uri": "https://localhost:8080/",
     "height": 34
    },
    "colab_type": "code",
    "executionInfo": {
     "elapsed": 1077,
     "status": "ok",
     "timestamp": 1598167381835,
     "user": {
      "displayName": "Hassan Iqbal",
      "photoUrl": "",
      "userId": "06635397133582197587"
     },
     "user_tz": 420
    },
    "id": "gI95SpKdLjJJ",
    "outputId": "6f5fd95a-c7f5-497b-d939-aa2e3e22eddf"
   },
   "outputs": [
    {
     "data": {
      "text/plain": [
       "True"
      ]
     },
     "execution_count": 15,
     "metadata": {
      "tags": []
     },
     "output_type": "execute_result"
    }
   ],
   "source": [
    "len(X_data)==len(data)==len(data_target)"
   ]
  },
  {
   "cell_type": "code",
   "execution_count": 16,
   "metadata": {
    "colab": {},
    "colab_type": "code",
    "executionInfo": {
     "elapsed": 1088,
     "status": "ok",
     "timestamp": 1598167388552,
     "user": {
      "displayName": "Hassan Iqbal",
      "photoUrl": "",
      "userId": "06635397133582197587"
     },
     "user_tz": 420
    },
    "id": "IIZdRPhbMvKl"
   },
   "outputs": [],
   "source": [
    "X = np.squeeze(X_data)\n"
   ]
  },
  {
   "cell_type": "code",
   "execution_count": 17,
   "metadata": {
    "colab": {
     "base_uri": "https://localhost:8080/",
     "height": 34
    },
    "colab_type": "code",
    "executionInfo": {
     "elapsed": 1094,
     "status": "ok",
     "timestamp": 1598167397518,
     "user": {
      "displayName": "Hassan Iqbal",
      "photoUrl": "",
      "userId": "06635397133582197587"
     },
     "user_tz": 420
    },
    "id": "BDvP9YScMwzt",
    "outputId": "54df705b-6924-471d-e848-a4dc2eaf1bfa"
   },
   "outputs": [
    {
     "data": {
      "text/plain": [
       "(253, 32, 32, 3)"
      ]
     },
     "execution_count": 17,
     "metadata": {
      "tags": []
     },
     "output_type": "execute_result"
    }
   ],
   "source": [
    "X.shape"
   ]
  },
  {
   "cell_type": "code",
   "execution_count": 18,
   "metadata": {
    "colab": {},
    "colab_type": "code",
    "executionInfo": {
     "elapsed": 911,
     "status": "ok",
     "timestamp": 1598167412361,
     "user": {
      "displayName": "Hassan Iqbal",
      "photoUrl": "",
      "userId": "06635397133582197587"
     },
     "user_tz": 420
    },
    "id": "qNLLngxtMy_9"
   },
   "outputs": [],
   "source": [
    "# normalize data\n",
    "X = X.astype('float32')\n",
    "X /= 255\n"
   ]
  },
  {
   "cell_type": "code",
   "execution_count": 19,
   "metadata": {
    "colab": {},
    "colab_type": "code",
    "executionInfo": {
     "elapsed": 1140,
     "status": "ok",
     "timestamp": 1598167431950,
     "user": {
      "displayName": "Hassan Iqbal",
      "photoUrl": "",
      "userId": "06635397133582197587"
     },
     "user_tz": 420
    },
    "id": "hAYk5KFGM2qg"
   },
   "outputs": [],
   "source": [
    "(x_train, y_train), (x_test, y_test) = (X[:190],data_target[:190]) , (X[190:] , data_target[190:])\n",
    "(x_valid , y_valid) = (x_test[:63], y_test[:63])"
   ]
  },
  {
   "cell_type": "code",
   "execution_count": 20,
   "metadata": {
    "colab": {
     "base_uri": "https://localhost:8080/",
     "height": 595
    },
    "colab_type": "code",
    "executionInfo": {
     "elapsed": 6930,
     "status": "ok",
     "timestamp": 1598167463334,
     "user": {
      "displayName": "Hassan Iqbal",
      "photoUrl": "",
      "userId": "06635397133582197587"
     },
     "user_tz": 420
    },
    "id": "NYcnil_aM7Y0",
    "outputId": "f78ed6e8-bebd-4d4f-b242-f1dcfec69c47"
   },
   "outputs": [
    {
     "name": "stdout",
     "output_type": "stream",
     "text": [
      "Model: \"sequential\"\n",
      "_________________________________________________________________\n",
      "Layer (type)                 Output Shape              Param #   \n",
      "=================================================================\n",
      "conv2d (Conv2D)              (None, 32, 32, 16)        3904      \n",
      "_________________________________________________________________\n",
      "max_pooling2d (MaxPooling2D) (None, 16, 16, 16)        0         \n",
      "_________________________________________________________________\n",
      "dropout (Dropout)            (None, 16, 16, 16)        0         \n",
      "_________________________________________________________________\n",
      "conv2d_1 (Conv2D)            (None, 16, 16, 16)        20752     \n",
      "_________________________________________________________________\n",
      "max_pooling2d_1 (MaxPooling2 (None, 8, 8, 16)          0         \n",
      "_________________________________________________________________\n",
      "dropout_1 (Dropout)          (None, 8, 8, 16)          0         \n",
      "_________________________________________________________________\n",
      "conv2d_2 (Conv2D)            (None, 8, 8, 36)          46692     \n",
      "_________________________________________________________________\n",
      "max_pooling2d_2 (MaxPooling2 (None, 4, 4, 36)          0         \n",
      "_________________________________________________________________\n",
      "dropout_2 (Dropout)          (None, 4, 4, 36)          0         \n",
      "_________________________________________________________________\n",
      "flatten (Flatten)            (None, 576)               0         \n",
      "_________________________________________________________________\n",
      "dense (Dense)                (None, 512)               295424    \n",
      "_________________________________________________________________\n",
      "dropout_3 (Dropout)          (None, 512)               0         \n",
      "_________________________________________________________________\n",
      "dense_1 (Dense)              (None, 1)                 513       \n",
      "=================================================================\n",
      "Total params: 367,285\n",
      "Trainable params: 367,285\n",
      "Non-trainable params: 0\n",
      "_________________________________________________________________\n"
     ]
    }
   ],
   "source": [
    "model = tf.keras.Sequential()\n",
    "\n",
    "# Must define the input shape in the first layer of the neural network\n",
    "model.add(tf.keras.layers.Conv2D(filters=16,kernel_size=9, padding='same', activation='relu', input_shape=(32,32,3))) \n",
    "model.add(tf.keras.layers.MaxPooling2D(pool_size=2))\n",
    "model.add(tf.keras.layers.Dropout(0.45))\n",
    "\n",
    "model.add(tf.keras.layers.Conv2D(filters=16,kernel_size=9,padding='same', activation='relu'))\n",
    "model.add(tf.keras.layers.MaxPooling2D(pool_size=2))\n",
    "model.add(tf.keras.layers.Dropout(0.25))\n",
    "\n",
    "model.add(tf.keras.layers.Conv2D(filters=36, kernel_size=9, padding='same', activation='relu'))\n",
    "model.add(tf.keras.layers.MaxPooling2D(pool_size=2))\n",
    "model.add(tf.keras.layers.Dropout(0.25))\n",
    "\n",
    "model.add(tf.keras.layers.Flatten())\n",
    "\n",
    "model.add(tf.keras.layers.Dense(512, activation='relu'))\n",
    "model.add(tf.keras.layers.Dropout(0.15))\n",
    "\n",
    "\n",
    "model.add(tf.keras.layers.Dense(1, activation='sigmoid'))\n",
    "\n",
    "# Take a look at the model summary\n",
    "model.summary()"
   ]
  },
  {
   "cell_type": "code",
   "execution_count": 21,
   "metadata": {
    "colab": {},
    "colab_type": "code",
    "executionInfo": {
     "elapsed": 1688,
     "status": "ok",
     "timestamp": 1598167476313,
     "user": {
      "displayName": "Hassan Iqbal",
      "photoUrl": "",
      "userId": "06635397133582197587"
     },
     "user_tz": 420
    },
    "id": "S24O4yqhNBo2"
   },
   "outputs": [],
   "source": [
    "model.compile(loss='binary_crossentropy',\n",
    "             optimizer=tf.keras.optimizers.Adam(),\n",
    "             metrics=['acc'])"
   ]
  },
  {
   "cell_type": "code",
   "execution_count": 22,
   "metadata": {
    "colab": {
     "base_uri": "https://localhost:8080/",
     "height": 1000
    },
    "colab_type": "code",
    "executionInfo": {
     "elapsed": 15140,
     "status": "ok",
     "timestamp": 1598167534988,
     "user": {
      "displayName": "Hassan Iqbal",
      "photoUrl": "",
      "userId": "06635397133582197587"
     },
     "user_tz": 420
    },
    "id": "e1fpp0iSNGFi",
    "outputId": "7a6c3222-db3b-4a90-c5d9-8c86fd764ec3"
   },
   "outputs": [
    {
     "name": "stdout",
     "output_type": "stream",
     "text": [
      "Epoch 1/150\n",
      "2/2 [==============================] - 0s 135ms/step - loss: 0.6838 - acc: 0.4211 - val_loss: 1.2781 - val_acc: 0.0000e+00\n",
      "Epoch 2/150\n",
      "2/2 [==============================] - 0s 13ms/step - loss: 0.5290 - acc: 0.8158 - val_loss: 1.2678 - val_acc: 0.0000e+00\n",
      "Epoch 3/150\n",
      "2/2 [==============================] - 0s 11ms/step - loss: 0.4787 - acc: 0.8158 - val_loss: 0.8888 - val_acc: 0.0000e+00\n",
      "Epoch 4/150\n",
      "2/2 [==============================] - 0s 11ms/step - loss: 0.5089 - acc: 0.8158 - val_loss: 0.8785 - val_acc: 0.0000e+00\n",
      "Epoch 5/150\n",
      "2/2 [==============================] - 0s 11ms/step - loss: 0.5018 - acc: 0.8158 - val_loss: 1.0032 - val_acc: 0.0000e+00\n",
      "Epoch 6/150\n",
      "2/2 [==============================] - 0s 11ms/step - loss: 0.4638 - acc: 0.8158 - val_loss: 1.3034 - val_acc: 0.0000e+00\n",
      "Epoch 7/150\n",
      "2/2 [==============================] - 0s 15ms/step - loss: 0.4672 - acc: 0.8158 - val_loss: 1.3336 - val_acc: 0.0000e+00\n",
      "Epoch 8/150\n",
      "2/2 [==============================] - 0s 12ms/step - loss: 0.4623 - acc: 0.8158 - val_loss: 1.0921 - val_acc: 0.0000e+00\n",
      "Epoch 9/150\n",
      "2/2 [==============================] - 0s 13ms/step - loss: 0.4471 - acc: 0.8158 - val_loss: 0.9625 - val_acc: 0.0000e+00\n",
      "Epoch 10/150\n",
      "2/2 [==============================] - 0s 13ms/step - loss: 0.4627 - acc: 0.8158 - val_loss: 0.9648 - val_acc: 0.0000e+00\n",
      "Epoch 11/150\n",
      "2/2 [==============================] - 0s 13ms/step - loss: 0.4619 - acc: 0.8158 - val_loss: 1.0596 - val_acc: 0.0000e+00\n",
      "Epoch 12/150\n",
      "2/2 [==============================] - 0s 13ms/step - loss: 0.4406 - acc: 0.8158 - val_loss: 1.2821 - val_acc: 0.0000e+00\n",
      "Epoch 13/150\n",
      "2/2 [==============================] - 0s 12ms/step - loss: 0.4484 - acc: 0.8158 - val_loss: 1.3345 - val_acc: 0.0000e+00\n",
      "Epoch 14/150\n",
      "2/2 [==============================] - 0s 13ms/step - loss: 0.4482 - acc: 0.8158 - val_loss: 1.1567 - val_acc: 0.0000e+00\n",
      "Epoch 15/150\n",
      "2/2 [==============================] - 0s 12ms/step - loss: 0.4365 - acc: 0.8158 - val_loss: 1.0429 - val_acc: 0.0000e+00\n",
      "Epoch 16/150\n",
      "2/2 [==============================] - 0s 11ms/step - loss: 0.4369 - acc: 0.8158 - val_loss: 1.0072 - val_acc: 0.0000e+00\n",
      "Epoch 17/150\n",
      "2/2 [==============================] - 0s 11ms/step - loss: 0.4324 - acc: 0.8158 - val_loss: 1.0720 - val_acc: 0.0000e+00\n",
      "Epoch 18/150\n",
      "2/2 [==============================] - 0s 11ms/step - loss: 0.4299 - acc: 0.8158 - val_loss: 1.1346 - val_acc: 0.0000e+00\n",
      "Epoch 19/150\n",
      "2/2 [==============================] - 0s 11ms/step - loss: 0.4194 - acc: 0.8158 - val_loss: 1.0827 - val_acc: 0.0000e+00\n",
      "Epoch 20/150\n",
      "2/2 [==============================] - 0s 10ms/step - loss: 0.4133 - acc: 0.8158 - val_loss: 1.0104 - val_acc: 0.0000e+00\n",
      "Epoch 21/150\n",
      "2/2 [==============================] - 0s 11ms/step - loss: 0.4175 - acc: 0.8158 - val_loss: 1.0046 - val_acc: 0.0000e+00\n",
      "Epoch 22/150\n",
      "2/2 [==============================] - 0s 13ms/step - loss: 0.4116 - acc: 0.8158 - val_loss: 1.0696 - val_acc: 0.0000e+00\n",
      "Epoch 23/150\n",
      "2/2 [==============================] - 0s 12ms/step - loss: 0.4077 - acc: 0.8158 - val_loss: 0.9809 - val_acc: 0.0000e+00\n",
      "Epoch 24/150\n",
      "2/2 [==============================] - 0s 15ms/step - loss: 0.4120 - acc: 0.8158 - val_loss: 0.9075 - val_acc: 0.0000e+00\n",
      "Epoch 25/150\n",
      "2/2 [==============================] - 0s 11ms/step - loss: 0.4150 - acc: 0.8158 - val_loss: 1.0222 - val_acc: 0.0000e+00\n",
      "Epoch 26/150\n",
      "2/2 [==============================] - 0s 14ms/step - loss: 0.4112 - acc: 0.8158 - val_loss: 0.9397 - val_acc: 0.0000e+00\n",
      "Epoch 27/150\n",
      "2/2 [==============================] - 0s 14ms/step - loss: 0.4016 - acc: 0.8158 - val_loss: 0.8685 - val_acc: 0.0000e+00\n",
      "Epoch 28/150\n",
      "2/2 [==============================] - 0s 13ms/step - loss: 0.4071 - acc: 0.8158 - val_loss: 0.9427 - val_acc: 0.0000e+00\n",
      "Epoch 29/150\n",
      "2/2 [==============================] - 0s 13ms/step - loss: 0.3965 - acc: 0.8158 - val_loss: 1.0030 - val_acc: 0.0000e+00\n",
      "Epoch 30/150\n",
      "2/2 [==============================] - 0s 12ms/step - loss: 0.4008 - acc: 0.8158 - val_loss: 0.9969 - val_acc: 0.0000e+00\n",
      "Epoch 31/150\n",
      "2/2 [==============================] - 0s 12ms/step - loss: 0.4036 - acc: 0.8158 - val_loss: 0.8808 - val_acc: 0.0000e+00\n",
      "Epoch 32/150\n",
      "2/2 [==============================] - 0s 12ms/step - loss: 0.3992 - acc: 0.8158 - val_loss: 0.8874 - val_acc: 0.0000e+00\n",
      "Epoch 33/150\n",
      "2/2 [==============================] - 0s 12ms/step - loss: 0.3896 - acc: 0.8158 - val_loss: 0.9897 - val_acc: 0.0000e+00\n",
      "Epoch 34/150\n",
      "2/2 [==============================] - 0s 13ms/step - loss: 0.3876 - acc: 0.8158 - val_loss: 1.0339 - val_acc: 0.0000e+00\n",
      "Epoch 35/150\n",
      "2/2 [==============================] - 0s 13ms/step - loss: 0.3902 - acc: 0.8158 - val_loss: 0.8544 - val_acc: 0.0635\n",
      "Epoch 36/150\n",
      "2/2 [==============================] - 0s 15ms/step - loss: 0.3974 - acc: 0.8158 - val_loss: 0.7993 - val_acc: 0.2381\n",
      "Epoch 37/150\n",
      "2/2 [==============================] - 0s 12ms/step - loss: 0.3994 - acc: 0.8158 - val_loss: 0.9736 - val_acc: 0.1587\n",
      "Epoch 38/150\n",
      "2/2 [==============================] - 0s 13ms/step - loss: 0.3833 - acc: 0.8158 - val_loss: 1.1064 - val_acc: 0.1270\n",
      "Epoch 39/150\n",
      "2/2 [==============================] - 0s 12ms/step - loss: 0.4004 - acc: 0.8211 - val_loss: 0.9482 - val_acc: 0.1905\n",
      "Epoch 40/150\n",
      "2/2 [==============================] - 0s 12ms/step - loss: 0.3868 - acc: 0.8211 - val_loss: 0.8666 - val_acc: 0.3333\n",
      "Epoch 41/150\n",
      "2/2 [==============================] - 0s 13ms/step - loss: 0.3908 - acc: 0.8316 - val_loss: 0.9035 - val_acc: 0.3175\n",
      "Epoch 42/150\n",
      "2/2 [==============================] - 0s 11ms/step - loss: 0.3992 - acc: 0.8263 - val_loss: 1.0130 - val_acc: 0.2063\n",
      "Epoch 43/150\n",
      "2/2 [==============================] - 0s 13ms/step - loss: 0.3796 - acc: 0.8263 - val_loss: 0.9621 - val_acc: 0.3016\n",
      "Epoch 44/150\n",
      "2/2 [==============================] - 0s 14ms/step - loss: 0.3778 - acc: 0.8316 - val_loss: 0.9170 - val_acc: 0.3651\n",
      "Epoch 45/150\n",
      "2/2 [==============================] - 0s 14ms/step - loss: 0.3711 - acc: 0.8526 - val_loss: 0.8997 - val_acc: 0.3968\n",
      "Epoch 46/150\n",
      "2/2 [==============================] - 0s 15ms/step - loss: 0.3728 - acc: 0.8421 - val_loss: 0.9357 - val_acc: 0.3968\n",
      "Epoch 47/150\n",
      "2/2 [==============================] - 0s 14ms/step - loss: 0.3615 - acc: 0.8421 - val_loss: 0.9938 - val_acc: 0.3651\n",
      "Epoch 48/150\n",
      "2/2 [==============================] - 0s 14ms/step - loss: 0.3692 - acc: 0.8421 - val_loss: 0.8856 - val_acc: 0.4603\n",
      "Epoch 49/150\n",
      "2/2 [==============================] - 0s 13ms/step - loss: 0.3683 - acc: 0.8526 - val_loss: 0.8538 - val_acc: 0.5238\n",
      "Epoch 50/150\n",
      "2/2 [==============================] - 0s 12ms/step - loss: 0.3539 - acc: 0.8632 - val_loss: 0.9979 - val_acc: 0.4444\n",
      "Epoch 51/150\n",
      "2/2 [==============================] - 0s 12ms/step - loss: 0.3550 - acc: 0.8526 - val_loss: 0.9336 - val_acc: 0.4603\n",
      "Epoch 52/150\n",
      "2/2 [==============================] - 0s 19ms/step - loss: 0.3532 - acc: 0.8474 - val_loss: 0.8127 - val_acc: 0.5873\n",
      "Epoch 53/150\n",
      "2/2 [==============================] - 0s 13ms/step - loss: 0.3460 - acc: 0.8632 - val_loss: 0.9710 - val_acc: 0.4603\n",
      "Epoch 54/150\n",
      "2/2 [==============================] - 0s 12ms/step - loss: 0.3533 - acc: 0.8684 - val_loss: 1.0788 - val_acc: 0.3651\n",
      "Epoch 55/150\n",
      "2/2 [==============================] - 0s 14ms/step - loss: 0.3524 - acc: 0.8579 - val_loss: 0.8993 - val_acc: 0.4603\n",
      "Epoch 56/150\n",
      "2/2 [==============================] - 0s 12ms/step - loss: 0.3336 - acc: 0.8684 - val_loss: 0.8813 - val_acc: 0.4603\n",
      "Epoch 57/150\n",
      "2/2 [==============================] - 0s 14ms/step - loss: 0.3319 - acc: 0.8526 - val_loss: 0.9461 - val_acc: 0.4603\n",
      "Epoch 58/150\n",
      "2/2 [==============================] - 0s 13ms/step - loss: 0.3372 - acc: 0.8632 - val_loss: 0.8679 - val_acc: 0.5079\n",
      "Epoch 59/150\n",
      "2/2 [==============================] - 0s 13ms/step - loss: 0.3258 - acc: 0.8632 - val_loss: 0.9195 - val_acc: 0.4762\n",
      "Epoch 60/150\n",
      "2/2 [==============================] - 0s 13ms/step - loss: 0.3146 - acc: 0.8526 - val_loss: 0.8693 - val_acc: 0.5238\n",
      "Epoch 61/150\n",
      "2/2 [==============================] - 0s 13ms/step - loss: 0.3267 - acc: 0.8526 - val_loss: 1.0046 - val_acc: 0.4921\n",
      "Epoch 62/150\n",
      "2/2 [==============================] - 0s 13ms/step - loss: 0.2970 - acc: 0.8737 - val_loss: 0.6436 - val_acc: 0.6825\n",
      "Epoch 63/150\n",
      "2/2 [==============================] - 0s 12ms/step - loss: 0.2928 - acc: 0.8632 - val_loss: 1.1783 - val_acc: 0.4603\n",
      "Epoch 64/150\n",
      "2/2 [==============================] - 0s 15ms/step - loss: 0.3469 - acc: 0.8526 - val_loss: 0.4920 - val_acc: 0.7937\n",
      "Epoch 65/150\n",
      "2/2 [==============================] - 0s 14ms/step - loss: 0.3666 - acc: 0.8421 - val_loss: 0.7415 - val_acc: 0.5873\n",
      "Epoch 66/150\n",
      "2/2 [==============================] - 0s 13ms/step - loss: 0.2984 - acc: 0.8842 - val_loss: 1.3800 - val_acc: 0.3175\n",
      "Epoch 67/150\n",
      "2/2 [==============================] - 0s 12ms/step - loss: 0.3075 - acc: 0.8526 - val_loss: 0.6540 - val_acc: 0.6190\n",
      "Epoch 68/150\n",
      "2/2 [==============================] - 0s 12ms/step - loss: 0.3298 - acc: 0.8737 - val_loss: 0.8680 - val_acc: 0.5397\n",
      "Epoch 69/150\n",
      "2/2 [==============================] - 0s 12ms/step - loss: 0.2953 - acc: 0.8474 - val_loss: 1.2502 - val_acc: 0.3333\n",
      "Epoch 70/150\n",
      "2/2 [==============================] - 0s 12ms/step - loss: 0.3156 - acc: 0.8579 - val_loss: 0.9542 - val_acc: 0.4286\n",
      "Epoch 71/150\n",
      "2/2 [==============================] - 0s 12ms/step - loss: 0.3003 - acc: 0.8632 - val_loss: 0.8249 - val_acc: 0.5556\n",
      "Epoch 72/150\n",
      "2/2 [==============================] - 0s 13ms/step - loss: 0.2805 - acc: 0.8789 - val_loss: 0.9476 - val_acc: 0.4921\n",
      "Epoch 73/150\n",
      "2/2 [==============================] - 0s 12ms/step - loss: 0.2715 - acc: 0.8895 - val_loss: 1.0550 - val_acc: 0.4286\n",
      "Epoch 74/150\n",
      "2/2 [==============================] - 0s 14ms/step - loss: 0.2773 - acc: 0.8737 - val_loss: 0.7915 - val_acc: 0.6349\n",
      "Epoch 75/150\n",
      "2/2 [==============================] - 0s 13ms/step - loss: 0.2824 - acc: 0.8842 - val_loss: 0.8730 - val_acc: 0.5873\n",
      "Epoch 76/150\n",
      "2/2 [==============================] - 0s 13ms/step - loss: 0.2662 - acc: 0.8684 - val_loss: 0.9930 - val_acc: 0.4762\n",
      "Epoch 77/150\n",
      "2/2 [==============================] - 0s 13ms/step - loss: 0.2526 - acc: 0.8789 - val_loss: 0.9897 - val_acc: 0.4762\n",
      "Epoch 78/150\n",
      "2/2 [==============================] - 0s 15ms/step - loss: 0.2380 - acc: 0.8842 - val_loss: 1.1442 - val_acc: 0.4444\n",
      "Epoch 79/150\n",
      "2/2 [==============================] - 0s 12ms/step - loss: 0.2448 - acc: 0.9000 - val_loss: 0.7548 - val_acc: 0.6190\n",
      "Epoch 80/150\n",
      "2/2 [==============================] - 0s 13ms/step - loss: 0.2277 - acc: 0.9158 - val_loss: 1.3389 - val_acc: 0.3651\n",
      "Epoch 81/150\n",
      "2/2 [==============================] - 0s 18ms/step - loss: 0.2562 - acc: 0.8789 - val_loss: 0.9393 - val_acc: 0.4921\n",
      "Epoch 82/150\n",
      "2/2 [==============================] - 0s 12ms/step - loss: 0.2483 - acc: 0.8895 - val_loss: 0.8132 - val_acc: 0.5714\n",
      "Epoch 83/150\n",
      "2/2 [==============================] - 0s 13ms/step - loss: 0.2060 - acc: 0.9211 - val_loss: 1.2070 - val_acc: 0.4286\n",
      "Epoch 84/150\n",
      "2/2 [==============================] - 0s 13ms/step - loss: 0.2157 - acc: 0.8842 - val_loss: 0.8430 - val_acc: 0.6032\n",
      "Epoch 85/150\n",
      "2/2 [==============================] - 0s 13ms/step - loss: 0.1855 - acc: 0.9211 - val_loss: 0.9587 - val_acc: 0.5873\n",
      "Epoch 86/150\n",
      "2/2 [==============================] - 0s 13ms/step - loss: 0.1817 - acc: 0.9211 - val_loss: 1.1948 - val_acc: 0.4603\n",
      "Epoch 87/150\n",
      "2/2 [==============================] - 0s 15ms/step - loss: 0.1751 - acc: 0.9211 - val_loss: 0.6275 - val_acc: 0.7937\n",
      "Epoch 88/150\n",
      "2/2 [==============================] - 0s 16ms/step - loss: 0.1829 - acc: 0.9316 - val_loss: 1.6748 - val_acc: 0.4286\n",
      "Epoch 89/150\n",
      "2/2 [==============================] - 0s 18ms/step - loss: 0.2050 - acc: 0.9105 - val_loss: 0.5830 - val_acc: 0.7937\n",
      "Epoch 90/150\n",
      "2/2 [==============================] - 0s 13ms/step - loss: 0.2155 - acc: 0.9316 - val_loss: 1.0388 - val_acc: 0.5238\n",
      "Epoch 91/150\n",
      "2/2 [==============================] - 0s 12ms/step - loss: 0.2063 - acc: 0.9105 - val_loss: 1.6440 - val_acc: 0.3968\n",
      "Epoch 92/150\n",
      "2/2 [==============================] - 0s 15ms/step - loss: 0.1873 - acc: 0.9053 - val_loss: 0.5264 - val_acc: 0.7778\n",
      "Epoch 93/150\n",
      "2/2 [==============================] - 0s 13ms/step - loss: 0.2185 - acc: 0.9211 - val_loss: 0.8202 - val_acc: 0.6349\n",
      "Epoch 94/150\n",
      "2/2 [==============================] - 0s 15ms/step - loss: 0.1627 - acc: 0.9421 - val_loss: 0.9474 - val_acc: 0.5556\n",
      "Epoch 95/150\n",
      "2/2 [==============================] - 0s 13ms/step - loss: 0.1114 - acc: 0.9632 - val_loss: 0.6871 - val_acc: 0.7937\n",
      "Epoch 96/150\n",
      "2/2 [==============================] - 0s 14ms/step - loss: 0.1467 - acc: 0.9421 - val_loss: 1.0945 - val_acc: 0.6190\n",
      "Epoch 97/150\n",
      "2/2 [==============================] - 0s 13ms/step - loss: 0.1085 - acc: 0.9474 - val_loss: 0.8418 - val_acc: 0.7778\n",
      "Epoch 98/150\n",
      "2/2 [==============================] - 0s 13ms/step - loss: 0.1107 - acc: 0.9474 - val_loss: 0.6686 - val_acc: 0.8095\n",
      "Epoch 99/150\n",
      "2/2 [==============================] - 0s 13ms/step - loss: 0.1557 - acc: 0.9316 - val_loss: 0.9916 - val_acc: 0.6667\n",
      "Epoch 100/150\n",
      "2/2 [==============================] - 0s 12ms/step - loss: 0.1016 - acc: 0.9632 - val_loss: 1.3478 - val_acc: 0.5238\n",
      "Epoch 101/150\n",
      "2/2 [==============================] - 0s 13ms/step - loss: 0.1142 - acc: 0.9368 - val_loss: 0.8016 - val_acc: 0.7460\n",
      "Epoch 102/150\n",
      "2/2 [==============================] - 0s 12ms/step - loss: 0.1305 - acc: 0.9421 - val_loss: 0.7467 - val_acc: 0.8095\n",
      "Epoch 103/150\n",
      "2/2 [==============================] - 0s 13ms/step - loss: 0.0857 - acc: 0.9632 - val_loss: 1.5713 - val_acc: 0.5079\n",
      "Epoch 104/150\n",
      "2/2 [==============================] - 0s 13ms/step - loss: 0.1597 - acc: 0.9474 - val_loss: 0.6370 - val_acc: 0.7937\n",
      "Epoch 105/150\n",
      "2/2 [==============================] - 0s 13ms/step - loss: 0.1294 - acc: 0.9526 - val_loss: 1.3120 - val_acc: 0.5397\n",
      "Epoch 106/150\n",
      "2/2 [==============================] - 0s 13ms/step - loss: 0.0941 - acc: 0.9632 - val_loss: 2.0856 - val_acc: 0.4603\n",
      "Epoch 107/150\n",
      "2/2 [==============================] - 0s 14ms/step - loss: 0.1769 - acc: 0.9211 - val_loss: 0.6011 - val_acc: 0.8254\n",
      "Epoch 108/150\n",
      "2/2 [==============================] - 0s 13ms/step - loss: 0.2068 - acc: 0.9000 - val_loss: 1.0532 - val_acc: 0.6508\n",
      "Epoch 109/150\n",
      "2/2 [==============================] - 0s 14ms/step - loss: 0.0900 - acc: 0.9632 - val_loss: 1.7173 - val_acc: 0.4921\n",
      "Epoch 110/150\n",
      "2/2 [==============================] - 0s 13ms/step - loss: 0.1566 - acc: 0.9526 - val_loss: 1.0659 - val_acc: 0.6508\n",
      "Epoch 111/150\n",
      "2/2 [==============================] - 0s 13ms/step - loss: 0.1143 - acc: 0.9632 - val_loss: 0.6876 - val_acc: 0.8095\n",
      "Epoch 112/150\n",
      "2/2 [==============================] - 0s 14ms/step - loss: 0.1030 - acc: 0.9737 - val_loss: 1.1914 - val_acc: 0.5873\n",
      "Epoch 113/150\n",
      "2/2 [==============================] - 0s 12ms/step - loss: 0.0903 - acc: 0.9684 - val_loss: 1.4448 - val_acc: 0.5079\n",
      "Epoch 114/150\n",
      "2/2 [==============================] - 0s 12ms/step - loss: 0.0948 - acc: 0.9684 - val_loss: 0.8047 - val_acc: 0.8095\n",
      "Epoch 115/150\n",
      "2/2 [==============================] - 0s 12ms/step - loss: 0.0777 - acc: 0.9632 - val_loss: 0.6765 - val_acc: 0.8413\n",
      "Epoch 116/150\n",
      "2/2 [==============================] - 0s 12ms/step - loss: 0.0681 - acc: 0.9789 - val_loss: 1.2468 - val_acc: 0.5556\n",
      "Epoch 117/150\n",
      "2/2 [==============================] - 0s 12ms/step - loss: 0.0654 - acc: 0.9789 - val_loss: 0.9388 - val_acc: 0.7143\n",
      "Epoch 118/150\n",
      "2/2 [==============================] - 0s 12ms/step - loss: 0.0602 - acc: 0.9895 - val_loss: 0.6484 - val_acc: 0.8571\n",
      "Epoch 119/150\n",
      "2/2 [==============================] - 0s 12ms/step - loss: 0.1309 - acc: 0.9526 - val_loss: 2.1256 - val_acc: 0.4603\n",
      "Epoch 120/150\n",
      "2/2 [==============================] - 0s 15ms/step - loss: 0.0855 - acc: 0.9579 - val_loss: 1.8178 - val_acc: 0.5079\n",
      "Epoch 121/150\n",
      "2/2 [==============================] - 0s 13ms/step - loss: 0.0589 - acc: 0.9737 - val_loss: 0.8771 - val_acc: 0.8095\n",
      "Epoch 122/150\n",
      "2/2 [==============================] - 0s 12ms/step - loss: 0.0714 - acc: 0.9842 - val_loss: 1.1389 - val_acc: 0.6984\n",
      "Epoch 123/150\n",
      "2/2 [==============================] - 0s 13ms/step - loss: 0.0374 - acc: 0.9947 - val_loss: 1.5434 - val_acc: 0.5714\n",
      "Epoch 124/150\n",
      "2/2 [==============================] - 0s 14ms/step - loss: 0.0471 - acc: 0.9842 - val_loss: 1.3977 - val_acc: 0.6508\n",
      "Epoch 125/150\n",
      "2/2 [==============================] - 0s 13ms/step - loss: 0.0502 - acc: 0.9789 - val_loss: 1.2327 - val_acc: 0.6825\n",
      "Epoch 126/150\n",
      "2/2 [==============================] - 0s 14ms/step - loss: 0.0317 - acc: 0.9947 - val_loss: 1.3554 - val_acc: 0.6349\n",
      "Epoch 127/150\n",
      "2/2 [==============================] - 0s 13ms/step - loss: 0.0380 - acc: 0.9895 - val_loss: 1.8931 - val_acc: 0.5397\n",
      "Epoch 128/150\n",
      "2/2 [==============================] - 0s 12ms/step - loss: 0.0693 - acc: 0.9632 - val_loss: 1.0386 - val_acc: 0.7143\n",
      "Epoch 129/150\n",
      "2/2 [==============================] - 0s 12ms/step - loss: 0.0733 - acc: 0.9684 - val_loss: 1.4959 - val_acc: 0.6190\n",
      "Epoch 130/150\n",
      "2/2 [==============================] - 0s 12ms/step - loss: 0.0414 - acc: 0.9842 - val_loss: 1.6683 - val_acc: 0.6190\n",
      "Epoch 131/150\n",
      "2/2 [==============================] - 0s 13ms/step - loss: 0.0377 - acc: 0.9895 - val_loss: 1.0294 - val_acc: 0.8095\n",
      "Epoch 132/150\n",
      "2/2 [==============================] - 0s 12ms/step - loss: 0.0527 - acc: 0.9842 - val_loss: 1.4637 - val_acc: 0.6667\n",
      "Epoch 133/150\n",
      "2/2 [==============================] - 0s 12ms/step - loss: 0.0195 - acc: 0.9895 - val_loss: 1.3822 - val_acc: 0.6984\n",
      "Epoch 134/150\n",
      "2/2 [==============================] - 0s 12ms/step - loss: 0.0251 - acc: 0.9895 - val_loss: 1.0834 - val_acc: 0.8254\n",
      "Epoch 135/150\n",
      "2/2 [==============================] - 0s 12ms/step - loss: 0.0592 - acc: 0.9842 - val_loss: 2.2461 - val_acc: 0.5397\n",
      "Epoch 136/150\n",
      "2/2 [==============================] - 0s 12ms/step - loss: 0.0222 - acc: 1.0000 - val_loss: 2.6965 - val_acc: 0.4603\n",
      "Epoch 137/150\n",
      "2/2 [==============================] - 0s 13ms/step - loss: 0.0592 - acc: 0.9789 - val_loss: 1.1927 - val_acc: 0.6984\n",
      "Epoch 138/150\n",
      "2/2 [==============================] - 0s 17ms/step - loss: 0.0998 - acc: 0.9632 - val_loss: 0.9287 - val_acc: 0.8095\n",
      "Epoch 139/150\n",
      "2/2 [==============================] - 0s 14ms/step - loss: 0.0678 - acc: 0.9737 - val_loss: 2.1130 - val_acc: 0.5556\n",
      "Epoch 140/150\n",
      "2/2 [==============================] - 0s 13ms/step - loss: 0.0475 - acc: 0.9895 - val_loss: 2.5269 - val_acc: 0.5079\n",
      "Epoch 141/150\n",
      "2/2 [==============================] - 0s 13ms/step - loss: 0.0661 - acc: 0.9632 - val_loss: 1.4196 - val_acc: 0.6825\n",
      "Epoch 142/150\n",
      "2/2 [==============================] - 0s 14ms/step - loss: 0.0576 - acc: 0.9684 - val_loss: 0.8295 - val_acc: 0.8413\n",
      "Epoch 143/150\n",
      "2/2 [==============================] - 0s 15ms/step - loss: 0.0483 - acc: 0.9789 - val_loss: 1.1782 - val_acc: 0.7778\n",
      "Epoch 144/150\n",
      "2/2 [==============================] - 0s 13ms/step - loss: 0.0320 - acc: 0.9895 - val_loss: 2.1358 - val_acc: 0.4921\n",
      "Epoch 145/150\n",
      "2/2 [==============================] - 0s 13ms/step - loss: 0.0553 - acc: 0.9737 - val_loss: 1.5960 - val_acc: 0.6032\n",
      "Epoch 146/150\n",
      "2/2 [==============================] - 0s 14ms/step - loss: 0.0381 - acc: 0.9895 - val_loss: 0.5860 - val_acc: 0.8254\n",
      "Epoch 147/150\n",
      "2/2 [==============================] - 0s 14ms/step - loss: 0.1286 - acc: 0.9316 - val_loss: 1.9091 - val_acc: 0.5397\n",
      "Epoch 148/150\n",
      "2/2 [==============================] - 0s 13ms/step - loss: 0.0295 - acc: 0.9895 - val_loss: 2.5790 - val_acc: 0.4603\n",
      "Epoch 149/150\n",
      "2/2 [==============================] - 0s 14ms/step - loss: 0.0522 - acc: 0.9789 - val_loss: 1.5362 - val_acc: 0.6190\n",
      "Epoch 150/150\n",
      "2/2 [==============================] - 0s 13ms/step - loss: 0.0323 - acc: 0.9842 - val_loss: 0.8742 - val_acc: 0.8254\n"
     ]
    },
    {
     "data": {
      "text/plain": [
       "<tensorflow.python.keras.callbacks.History at 0x7f7e503cf7f0>"
      ]
     },
     "execution_count": 22,
     "metadata": {
      "tags": []
     },
     "output_type": "execute_result"
    }
   ],
   "source": [
    "model.fit(x_train,\n",
    "         y_train,\n",
    "         batch_size=128,\n",
    "         epochs=150,\n",
    "         validation_data=(x_valid, y_valid),)"
   ]
  },
  {
   "cell_type": "code",
   "execution_count": 36,
   "metadata": {
    "colab": {},
    "colab_type": "code",
    "executionInfo": {
     "elapsed": 1123,
     "status": "ok",
     "timestamp": 1598168770175,
     "user": {
      "displayName": "Hassan Iqbal",
      "photoUrl": "",
      "userId": "06635397133582197587"
     },
     "user_tz": 420
    },
    "id": "s6Fp0Ya9R-R9"
   },
   "outputs": [],
   "source": [
    "labels =[\"Yes\",  # index 0\n",
    "        \"No\",      # index 1\n",
    "        ]"
   ]
  },
  {
   "cell_type": "code",
   "execution_count": 37,
   "metadata": {
    "colab": {
     "base_uri": "https://localhost:8080/",
     "height": 485
    },
    "colab_type": "code",
    "executionInfo": {
     "elapsed": 2044,
     "status": "ok",
     "timestamp": 1598168781632,
     "user": {
      "displayName": "Hassan Iqbal",
      "photoUrl": "",
      "userId": "06635397133582197587"
     },
     "user_tz": 420
    },
    "id": "cIf6uV0JR_zS",
    "outputId": "cd776336-4022-4fc5-ca67-d542e3db224e"
   },
   "outputs": [
    {
     "data": {
      "image/png": "[encoded data removed]",
      "text/plain": [
       "<Figure size 1440x576 with 15 Axes>"
      ]
     },
     "metadata": {
      "tags": []
     },
     "output_type": "display_data"
    }
   ],
   "source": [
    "y_hat = model.predict(x_test)\n",
    "\n",
    "# Plot a random sample of 10 test images, their predicted labels and ground truth\n",
    "figure = plt.figure(figsize=(20, 8))\n",
    "for i, index in enumerate(np.random.choice(x_test.shape[0], size=15, replace=False)):\n",
    "    ax = figure.add_subplot(3, 5, i + 1, xticks=[], yticks=[])\n",
    "    # Display each image\n",
    "    ax.imshow(np.squeeze(x_test[index]))\n",
    "    predict_index = np.argmax(y_hat[index])\n",
    "    true_index = np.argmax(y_test[index])\n",
    "    # Set the title for each image\n",
    "    ax.set_title(\"{} ({})\".format(labels[predict_index], \n",
    "                                  labels[true_index]),\n",
    "                                  color=(\"green\" if predict_index == true_index else \"red\"))\n",
    "plt.show()\n"
   ]
  },
  {
   "cell_type": "markdown",
   "metadata": {
    "colab_type": "text",
    "id": "3lE7SCVjNjIA"
   },
   "source": [
    "#Accurecy"
   ]
  },
  {
   "cell_type": "code",
   "execution_count": 38,
   "metadata": {
    "colab": {
     "base_uri": "https://localhost:8080/",
     "height": 51
    },
    "colab_type": "code",
    "executionInfo": {
     "elapsed": 1114,
     "status": "ok",
     "timestamp": 1598168811842,
     "user": {
      "displayName": "Hassan Iqbal",
      "photoUrl": "",
      "userId": "06635397133582197587"
     },
     "user_tz": 420
    },
    "id": "iaG95o28NmrE",
    "outputId": "f00eeccc-16c4-4f47-dfef-c303091d288f"
   },
   "outputs": [
    {
     "name": "stdout",
     "output_type": "stream",
     "text": [
      "\n",
      " Test accuracy: 0.8253968358039856\n"
     ]
    }
   ],
   "source": [
    "# Evaluate the model on test set\n",
    "score = model.evaluate(x_test, y_test, verbose=0)\n",
    "\n",
    "# Print test accuracy\n",
    "print('\\n', 'Test accuracy:', score[1])"
   ]
  },
  {
   "cell_type": "code",
   "execution_count": null,
   "metadata": {
    "colab": {},
    "colab_type": "code",
    "id": "-wE5toJ2dmJj"
   },
   "outputs": [],
   "source": []
  }
 ],
 "metadata": {
  "accelerator": "GPU",
  "colab": {
   "authorship_tag": "ABX9TyN8bmKQOKVGAlRC2RMaMFXf",
   "collapsed_sections": [
    "3lE7SCVjNjIA",
    "S2kUYtKcbDzN",
    "qn2jWtUIbKuJ"
   ],
   "name": "Untitled0.ipynb",
   "provenance": []
  },
  "kernelspec": {
   "display_name": "Python 3",
   "language": "python",
   "name": "python3"
  },
  "language_info": {
   "codemirror_mode": {
    "name": "ipython",
    "version": 3
   },
   "file_extension": ".py",
   "mimetype": "text/x-python",
   "name": "python",
   "nbconvert_exporter": "python",
   "pygments_lexer": "ipython3",
   "version": "3.8.3"
  }
 },
 "nbformat": 4,
 "nbformat_minor": 4
}
